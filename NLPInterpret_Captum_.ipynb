{
  "nbformat": 4,
  "nbformat_minor": 0,
  "metadata": {
    "colab": {
      "provenance": []
    },
    "kernelspec": {
      "name": "python3",
      "display_name": "Python 3"
    },
    "language_info": {
      "name": "python"
    }
  },
  "cells": [
    {
      "cell_type": "code",
      "execution_count": 5,
      "metadata": {
        "colab": {
          "base_uri": "https://localhost:8080/"
        },
        "id": "z6-pB1S5CuS-",
        "outputId": "f34b31c8-4229-46fd-b900-0a19ae7e66b1"
      },
      "outputs": [
        {
          "output_type": "stream",
          "name": "stdout",
          "text": [
            "Looking in indexes: https://pypi.org/simple, https://us-python.pkg.dev/colab-wheels/public/simple/\n",
            "Requirement already satisfied: torch==1.10.2 in /usr/local/lib/python3.8/dist-packages (1.10.2)\n",
            "Requirement already satisfied: typing-extensions in /usr/local/lib/python3.8/dist-packages (from torch==1.10.2) (4.4.0)\n",
            "Looking in indexes: https://pypi.org/simple, https://us-python.pkg.dev/colab-wheels/public/simple/\n",
            "Requirement already satisfied: pandas==1.0.3 in /usr/local/lib/python3.8/dist-packages (1.0.3)\n",
            "Requirement already satisfied: numpy>=1.13.3 in /usr/local/lib/python3.8/dist-packages (from pandas==1.0.3) (1.21.6)\n",
            "Requirement already satisfied: python-dateutil>=2.6.1 in /usr/local/lib/python3.8/dist-packages (from pandas==1.0.3) (2.8.2)\n",
            "Requirement already satisfied: pytz>=2017.2 in /usr/local/lib/python3.8/dist-packages (from pandas==1.0.3) (2022.7)\n",
            "Requirement already satisfied: six>=1.5 in /usr/local/lib/python3.8/dist-packages (from python-dateutil>=2.6.1->pandas==1.0.3) (1.15.0)\n"
          ]
        }
      ],
      "source": [
        "!pip install torch==1.10.2\n",
        "!pip install pandas==1.0.3\n"
      ]
    },
    {
      "cell_type": "code",
      "source": [
        "!pip install transformers==4.16.2\n",
        "!pip install captum==0.4.1"
      ],
      "metadata": {
        "colab": {
          "base_uri": "https://localhost:8080/"
        },
        "id": "1KJMFFsTDskj",
        "outputId": "952c26e3-fdfe-4c37-fbdf-a571eb78b0b7"
      },
      "execution_count": 6,
      "outputs": [
        {
          "output_type": "stream",
          "name": "stdout",
          "text": [
            "Looking in indexes: https://pypi.org/simple, https://us-python.pkg.dev/colab-wheels/public/simple/\n",
            "Requirement already satisfied: transformers==4.16.2 in /usr/local/lib/python3.8/dist-packages (4.16.2)\n",
            "Requirement already satisfied: regex!=2019.12.17 in /usr/local/lib/python3.8/dist-packages (from transformers==4.16.2) (2022.6.2)\n",
            "Requirement already satisfied: packaging>=20.0 in /usr/local/lib/python3.8/dist-packages (from transformers==4.16.2) (21.3)\n",
            "Requirement already satisfied: tqdm>=4.27 in /usr/local/lib/python3.8/dist-packages (from transformers==4.16.2) (4.64.1)\n",
            "Requirement already satisfied: huggingface-hub<1.0,>=0.1.0 in /usr/local/lib/python3.8/dist-packages (from transformers==4.16.2) (0.11.1)\n",
            "Requirement already satisfied: numpy>=1.17 in /usr/local/lib/python3.8/dist-packages (from transformers==4.16.2) (1.21.6)\n",
            "Requirement already satisfied: tokenizers!=0.11.3,>=0.10.1 in /usr/local/lib/python3.8/dist-packages (from transformers==4.16.2) (0.13.2)\n",
            "Requirement already satisfied: sacremoses in /usr/local/lib/python3.8/dist-packages (from transformers==4.16.2) (0.0.53)\n",
            "Requirement already satisfied: filelock in /usr/local/lib/python3.8/dist-packages (from transformers==4.16.2) (3.8.2)\n",
            "Requirement already satisfied: pyyaml>=5.1 in /usr/local/lib/python3.8/dist-packages (from transformers==4.16.2) (6.0)\n",
            "Requirement already satisfied: requests in /usr/local/lib/python3.8/dist-packages (from transformers==4.16.2) (2.25.1)\n",
            "Requirement already satisfied: typing-extensions>=3.7.4.3 in /usr/local/lib/python3.8/dist-packages (from huggingface-hub<1.0,>=0.1.0->transformers==4.16.2) (4.4.0)\n",
            "Requirement already satisfied: pyparsing!=3.0.5,>=2.0.2 in /usr/local/lib/python3.8/dist-packages (from packaging>=20.0->transformers==4.16.2) (3.0.9)\n",
            "Requirement already satisfied: idna<3,>=2.5 in /usr/local/lib/python3.8/dist-packages (from requests->transformers==4.16.2) (2.10)\n",
            "Requirement already satisfied: urllib3<1.27,>=1.21.1 in /usr/local/lib/python3.8/dist-packages (from requests->transformers==4.16.2) (1.24.3)\n",
            "Requirement already satisfied: chardet<5,>=3.0.2 in /usr/local/lib/python3.8/dist-packages (from requests->transformers==4.16.2) (4.0.0)\n",
            "Requirement already satisfied: certifi>=2017.4.17 in /usr/local/lib/python3.8/dist-packages (from requests->transformers==4.16.2) (2022.12.7)\n",
            "Requirement already satisfied: joblib in /usr/local/lib/python3.8/dist-packages (from sacremoses->transformers==4.16.2) (1.2.0)\n",
            "Requirement already satisfied: click in /usr/local/lib/python3.8/dist-packages (from sacremoses->transformers==4.16.2) (7.1.2)\n",
            "Requirement already satisfied: six in /usr/local/lib/python3.8/dist-packages (from sacremoses->transformers==4.16.2) (1.15.0)\n",
            "Looking in indexes: https://pypi.org/simple, https://us-python.pkg.dev/colab-wheels/public/simple/\n",
            "Requirement already satisfied: captum==0.4.1 in /usr/local/lib/python3.8/dist-packages (0.4.1)\n",
            "Requirement already satisfied: torch>=1.2 in /usr/local/lib/python3.8/dist-packages (from captum==0.4.1) (1.10.2)\n",
            "Requirement already satisfied: matplotlib in /usr/local/lib/python3.8/dist-packages (from captum==0.4.1) (3.2.2)\n",
            "Requirement already satisfied: numpy in /usr/local/lib/python3.8/dist-packages (from captum==0.4.1) (1.21.6)\n",
            "Requirement already satisfied: typing-extensions in /usr/local/lib/python3.8/dist-packages (from torch>=1.2->captum==0.4.1) (4.4.0)\n",
            "Requirement already satisfied: python-dateutil>=2.1 in /usr/local/lib/python3.8/dist-packages (from matplotlib->captum==0.4.1) (2.8.2)\n",
            "Requirement already satisfied: kiwisolver>=1.0.1 in /usr/local/lib/python3.8/dist-packages (from matplotlib->captum==0.4.1) (1.4.4)\n",
            "Requirement already satisfied: pyparsing!=2.0.4,!=2.1.2,!=2.1.6,>=2.0.1 in /usr/local/lib/python3.8/dist-packages (from matplotlib->captum==0.4.1) (3.0.9)\n",
            "Requirement already satisfied: cycler>=0.10 in /usr/local/lib/python3.8/dist-packages (from matplotlib->captum==0.4.1) (0.11.0)\n",
            "Requirement already satisfied: six>=1.5 in /usr/local/lib/python3.8/dist-packages (from python-dateutil>=2.1->matplotlib->captum==0.4.1) (1.15.0)\n"
          ]
        }
      ]
    },
    {
      "cell_type": "code",
      "source": [
        "from transformers import pipeline\n",
        "clf = pipeline('sentiment-analysis')"
      ],
      "metadata": {
        "colab": {
          "base_uri": "https://localhost:8080/"
        },
        "id": "rX4GKrmQC1rq",
        "outputId": "121e3ae1-0818-46a3-af43-eb8ca24852b8"
      },
      "execution_count": 7,
      "outputs": [
        {
          "output_type": "stream",
          "name": "stderr",
          "text": [
            "No model was supplied, defaulted to distilbert-base-uncased-finetuned-sst-2-english (https://huggingface.co/distilbert-base-uncased-finetuned-sst-2-english)\n"
          ]
        }
      ]
    },
    {
      "cell_type": "code",
      "source": [
        "import torch\n",
        "import pandas as pd\n",
        "\n",
        "from torch import tensor \n",
        "from transformers import DistilBertTokenizer\n",
        "from transformers.pipelines import TextClassificationPipeline\n",
        "from captum.attr import LayerIntegratedGradients, TokenReferenceBase\n",
        "\n",
        "import matplotlib.pyplot as plt\n",
        "\n",
        "class ExplainableTransformerPipeline():\n",
        "    \"\"\"Wrapper for Captum framework usage with Huggingface Pipeline\"\"\"\n",
        "    \n",
        "    def __init__(self, name:str, pipeline: TextClassificationPipeline, device: str):\n",
        "        self.__name = name\n",
        "        self.__pipeline = pipeline\n",
        "        self.__device = device\n",
        "    \n",
        "    def forward_func(self, inputs: tensor, position = 0):\n",
        "        \"\"\"\n",
        "            Wrapper around prediction method of pipeline\n",
        "        \"\"\"\n",
        "        pred = self.__pipeline.model(inputs,\n",
        "                       attention_mask=torch.ones_like(inputs))\n",
        "        return pred[position]\n",
        "        \n",
        "    def visualize(self, inputs: list, attributes: list,prediction:list):\n",
        "        \"\"\"\n",
        "            Visualization method.\n",
        "            Takes list of inputs and correspondent attributs for them to visualize in a barplot\n",
        "        \"\"\"\n",
        "        attr_sum = attributes.sum(-1) \n",
        "        \n",
        "        attr = attr_sum / torch.norm(attr_sum)\n",
        "        \n",
        "        a = pd.Series(attr.numpy()[0], \n",
        "                         index = self.__pipeline.tokenizer.convert_ids_to_tokens(inputs.detach().numpy()[0]))\n",
        "        \n",
        "        plt.show(a.plot.barh(figsize=(10,20)))\n",
        "                      \n",
        "    def explain(self, text: str):\n",
        "        \"\"\"\n",
        "            Main entry method. Passes text through series of transformations and through the model. \n",
        "            Calls visualization method.\n",
        "        \"\"\"\n",
        "        prediction = self.__pipeline(text)\n",
        "        inputs = self.generate_inputs(text)\n",
        "        baseline = self.generate_baseline(sequence_len = inputs.shape[1])\n",
        "        \n",
        "        lig = LayerIntegratedGradients(self.forward_func, getattr(self.__pipeline.model, 'distilbert').embeddings)\n",
        "        \n",
        "        attributes, delta = lig.attribute(inputs=inputs,\n",
        "                                  baselines=baseline,\n",
        "                                  target = self.__pipeline.model.config.label2id[prediction[0]['label']], \n",
        "                                  return_convergence_delta = True)\n",
        "        \n",
        "        self.visualize(inputs, attributes, prediction)\n",
        "        \n",
        "    def generate_inputs(self, text: str) -> tensor:\n",
        "        \"\"\"\n",
        "            Convenience method for generation of input ids as list of torch tensors\n",
        "        \"\"\"\n",
        "        return torch.tensor(self.__pipeline.tokenizer.encode(text, add_special_tokens=False), device = self.__device).unsqueeze(0)\n",
        "    \n",
        "    def generate_baseline(self, sequence_len: int) -> tensor:\n",
        "        \"\"\"\n",
        "            Convenience method for generation of baseline vector as list of torch tensors\n",
        "        \"\"\"        \n",
        "        return torch.tensor([self.__pipeline.tokenizer.cls_token_id] + [self.__pipeline.tokenizer.pad_token_id] * (sequence_len - 2) + [self.__pipeline.tokenizer.sep_token_id], device = self.__device).unsqueeze(0)\n",
        "\n",
        "exp_model = ExplainableTransformerPipeline(\"distilbert\", clf,'cpu')\n",
        "exp_model.explain(\"Interpreting reasoning behind language models for generating stereotypical text\")  "
      ],
      "metadata": {
        "colab": {
          "base_uri": "https://localhost:8080/",
          "height": 1000
        },
        "id": "in4fWIV0C8F_",
        "outputId": "35d08f13-71b2-4590-c33c-da2be1eaca65"
      },
      "execution_count": 8,
      "outputs": [
        {
          "output_type": "display_data",
          "data": {
            "text/plain": [
              "<Figure size 720x1440 with 1 Axes>"
            ],
            "image/png": "[encoded data removed]"
          },
          "metadata": {
            "needs_background": "light"
          }
        }
      ]
    },
    {
      "cell_type": "code",
      "source": [],
      "metadata": {
        "id": "zeXNxC7xE899"
      },
      "execution_count": 8,
      "outputs": []
    }
  ]
}